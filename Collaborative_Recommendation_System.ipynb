{
  "nbformat": 4,
  "nbformat_minor": 0,
  "metadata": {
    "colab": {
      "name": "Collaborative Recommendation System.ipynb",
      "provenance": [],
      "collapsed_sections": [],
      "authorship_tag": "ABX9TyP5ux2YKumkCXfd7uNNkXXs",
      "include_colab_link": true
    },
    "kernelspec": {
      "name": "python3",
      "display_name": "Python 3"
    }
  },
  "cells": [
    {
      "cell_type": "markdown",
      "metadata": {
        "id": "view-in-github",
        "colab_type": "text"
      },
      "source": [
        "<a href=\"https://colab.research.google.com/github/SuvarnaDalin/Analytics-Projects/blob/master/Collaborative_Recommendation_System.ipynb\" target=\"_parent\"><img src=\"https://colab.research.google.com/assets/colab-badge.svg\" alt=\"Open In Colab\"/></a>"
      ]
    },
    {
      "cell_type": "code",
      "metadata": {
        "id": "_9hWWeiiJvub",
        "colab_type": "code",
        "colab": {}
      },
      "source": [
        "import pandas as pd"
      ],
      "execution_count": null,
      "outputs": []
    },
    {
      "cell_type": "code",
      "metadata": {
        "id": "q0J58CfOcFCe",
        "colab_type": "code",
        "colab": {
          "base_uri": "https://localhost:8080/",
          "height": 127
        },
        "outputId": "74b9a3bb-d3f5-41c6-8a78-136806c45575"
      },
      "source": [
        "!git clone https://github.com/SuvarnaDalin/Data-for-Analysis.git"
      ],
      "execution_count": null,
      "outputs": [
        {
          "output_type": "stream",
          "text": [
            "Cloning into 'Data-for-Analysis'...\n",
            "remote: Enumerating objects: 18, done.\u001b[K\n",
            "remote: Counting objects: 100% (18/18), done.\u001b[K\n",
            "remote: Compressing objects: 100% (17/17), done.\u001b[K\n",
            "remote: Total 18 (delta 2), reused 0 (delta 0), pack-reused 0\u001b[K\n",
            "Unpacking objects: 100% (18/18), done.\n"
          ],
          "name": "stdout"
        }
      ]
    },
    {
      "cell_type": "code",
      "metadata": {
        "id": "AYdVefgHcgm2",
        "colab_type": "code",
        "colab": {}
      },
      "source": [
        "!cd Data-for-Analysis/"
      ],
      "execution_count": null,
      "outputs": []
    },
    {
      "cell_type": "code",
      "metadata": {
        "id": "XbLqBTl7dxEF",
        "colab_type": "code",
        "colab": {
          "base_uri": "https://localhost:8080/",
          "height": 35
        },
        "outputId": "0b939a5c-eb15-4bf5-fa50-c17dc878a691"
      },
      "source": [
        "!ls Data-for-Analysis/"
      ],
      "execution_count": null,
      "outputs": [
        {
          "output_type": "stream",
          "text": [
            "Iris.csv  posts.csv  README.md\tSampleSuperstore.csv  users.csv  views.csv\n"
          ],
          "name": "stdout"
        }
      ]
    },
    {
      "cell_type": "code",
      "metadata": {
        "id": "wlLs6T0wSabs",
        "colab_type": "code",
        "colab": {}
      },
      "source": [
        "posts_data = pd.read_csv('Data-for-Analysis/posts.csv')\n",
        "users_data = pd.read_csv('Data-for-Analysis/users.csv')\n",
        "views_data = pd.read_csv('Data-for-Analysis/views.csv')"
      ],
      "execution_count": null,
      "outputs": []
    },
    {
      "cell_type": "markdown",
      "metadata": {
        "id": "lVRhTsbY2tMu",
        "colab_type": "text"
      },
      "source": [
        "Recommendation System, based on:\n",
        "# 2. Collaborative Filtering"
      ]
    },
    {
      "cell_type": "markdown",
      "metadata": {
        "id": "IxyCI344wSzP",
        "colab_type": "text"
      },
      "source": [
        "Preprocessing the data"
      ]
    },
    {
      "cell_type": "code",
      "metadata": {
        "id": "fyJTBKsQ-5Jf",
        "colab_type": "code",
        "colab": {
          "base_uri": "https://localhost:8080/",
          "height": 206
        },
        "outputId": "5344dcd8-f484-4e2e-ea71-fdf74e41a95e"
      },
      "source": [
        "df1 = views_data[['user_id', 'post_id']]\n",
        "df1.columns = ['_id' if x=='user_id' else x for x in df1.columns]\n",
        "df2 = users_data[['_id', 'name']]\n",
        "df3 = pd.merge(df2, df1)\n",
        "df3.head()"
      ],
      "execution_count": null,
      "outputs": [
        {
          "output_type": "execute_result",
          "data": {
            "text/html": [
              "<div>\n",
              "<style scoped>\n",
              "    .dataframe tbody tr th:only-of-type {\n",
              "        vertical-align: middle;\n",
              "    }\n",
              "\n",
              "    .dataframe tbody tr th {\n",
              "        vertical-align: top;\n",
              "    }\n",
              "\n",
              "    .dataframe thead th {\n",
              "        text-align: right;\n",
              "    }\n",
              "</style>\n",
              "<table border=\"1\" class=\"dataframe\">\n",
              "  <thead>\n",
              "    <tr style=\"text-align: right;\">\n",
              "      <th></th>\n",
              "      <th>_id</th>\n",
              "      <th>name</th>\n",
              "      <th>post_id</th>\n",
              "    </tr>\n",
              "  </thead>\n",
              "  <tbody>\n",
              "    <tr>\n",
              "      <th>0</th>\n",
              "      <td>5d60098a653a331687083238</td>\n",
              "      <td>Nivesh Singh Chauhan</td>\n",
              "      <td>5ed3820f76027d35905ccac8</td>\n",
              "    </tr>\n",
              "    <tr>\n",
              "      <th>1</th>\n",
              "      <td>5d60098a653a331687083238</td>\n",
              "      <td>Nivesh Singh Chauhan</td>\n",
              "      <td>5ed1ff0276027d35905cc60d</td>\n",
              "    </tr>\n",
              "    <tr>\n",
              "      <th>2</th>\n",
              "      <td>5d60098a653a331687083238</td>\n",
              "      <td>Nivesh Singh Chauhan</td>\n",
              "      <td>5ecf96e876027d35905cbf46</td>\n",
              "    </tr>\n",
              "    <tr>\n",
              "      <th>3</th>\n",
              "      <td>5d60098a653a331687083238</td>\n",
              "      <td>Nivesh Singh Chauhan</td>\n",
              "      <td>5ecfa0ca76027d35905cbf57</td>\n",
              "    </tr>\n",
              "    <tr>\n",
              "      <th>4</th>\n",
              "      <td>5d60098a653a331687083238</td>\n",
              "      <td>Nivesh Singh Chauhan</td>\n",
              "      <td>5ed0e20776027d35905cc2fe</td>\n",
              "    </tr>\n",
              "  </tbody>\n",
              "</table>\n",
              "</div>"
            ],
            "text/plain": [
              "                        _id                  name                   post_id\n",
              "0  5d60098a653a331687083238  Nivesh Singh Chauhan  5ed3820f76027d35905ccac8\n",
              "1  5d60098a653a331687083238  Nivesh Singh Chauhan  5ed1ff0276027d35905cc60d\n",
              "2  5d60098a653a331687083238  Nivesh Singh Chauhan  5ecf96e876027d35905cbf46\n",
              "3  5d60098a653a331687083238  Nivesh Singh Chauhan  5ecfa0ca76027d35905cbf57\n",
              "4  5d60098a653a331687083238  Nivesh Singh Chauhan  5ed0e20776027d35905cc2fe"
            ]
          },
          "metadata": {
            "tags": []
          },
          "execution_count": 4
        }
      ]
    },
    {
      "cell_type": "markdown",
      "metadata": {
        "id": "TvbL6dNKuP_q",
        "colab_type": "text"
      },
      "source": [
        "Mapping user name to post_id to obtain the number of views made by a user."
      ]
    },
    {
      "cell_type": "code",
      "metadata": {
        "id": "-q7eZvb-t8j2",
        "colab_type": "code",
        "colab": {
          "base_uri": "https://localhost:8080/",
          "height": 35
        },
        "outputId": "f3137907-ddcf-4411-cc84-de73fd9f3081"
      },
      "source": [
        "views_df = df3\n",
        "views_crossed = pd.crosstab(views_df['name'], views_df['post_id']).fillna(0)\n",
        "views_crossed['5eb2c11210426255a7aaa052'].sum()"
      ],
      "execution_count": null,
      "outputs": [
        {
          "output_type": "execute_result",
          "data": {
            "text/plain": [
              "14"
            ]
          },
          "metadata": {
            "tags": []
          },
          "execution_count": 5
        }
      ]
    },
    {
      "cell_type": "markdown",
      "metadata": {
        "id": "s6gBqmMRvUTs",
        "colab_type": "text"
      },
      "source": [
        "Creating a sparse matrix"
      ]
    },
    {
      "cell_type": "code",
      "metadata": {
        "id": "IORolhrquKi_",
        "colab_type": "code",
        "colab": {}
      },
      "source": [
        "from scipy.sparse import csr_matrix\n",
        "views_mat = csr_matrix(views_crossed.values)"
      ],
      "execution_count": null,
      "outputs": []
    },
    {
      "cell_type": "markdown",
      "metadata": {
        "id": "amqRRtCxv4vk",
        "colab_type": "text"
      },
      "source": [
        "Model Fitting using KNN"
      ]
    },
    {
      "cell_type": "code",
      "metadata": {
        "id": "VwUAKfLhvXq5",
        "colab_type": "code",
        "colab": {
          "base_uri": "https://localhost:8080/",
          "height": 72
        },
        "outputId": "e8b3e288-86d6-4c7f-a6b4-1eebb3895cff"
      },
      "source": [
        "from sklearn.neighbors import NearestNeighbors\n",
        "#make an object for the NearestNeighbors Class.\n",
        "model_knn = NearestNeighbors(metric='cosine', algorithm='brute', n_neighbors=20, n_jobs=-1)# fit the dataset\n",
        "\n",
        "model_knn.fit(views_mat)"
      ],
      "execution_count": null,
      "outputs": [
        {
          "output_type": "execute_result",
          "data": {
            "text/plain": [
              "NearestNeighbors(algorithm='brute', leaf_size=30, metric='cosine',\n",
              "                 metric_params=None, n_jobs=-1, n_neighbors=20, p=2,\n",
              "                 radius=1.0)"
            ]
          },
          "metadata": {
            "tags": []
          },
          "execution_count": 7
        }
      ]
    },
    {
      "cell_type": "markdown",
      "metadata": {
        "id": "LPmGNhXj5cpl",
        "colab_type": "text"
      },
      "source": [
        "### Result: Recommend posts for the given user"
      ]
    },
    {
      "cell_type": "code",
      "metadata": {
        "id": "xXkzqAgbzg-q",
        "colab_type": "code",
        "colab": {
          "base_uri": "https://localhost:8080/",
          "height": 110
        },
        "outputId": "4452400c-e2f1-4ae0-a6fb-077cdf3be170"
      },
      "source": [
        "pip install fuzzywuzzy"
      ],
      "execution_count": null,
      "outputs": [
        {
          "output_type": "stream",
          "text": [
            "Collecting fuzzywuzzy\n",
            "  Downloading https://files.pythonhosted.org/packages/43/ff/74f23998ad2f93b945c0309f825be92e04e0348e062026998b5eefef4c33/fuzzywuzzy-0.18.0-py2.py3-none-any.whl\n",
            "Installing collected packages: fuzzywuzzy\n",
            "Successfully installed fuzzywuzzy-0.18.0\n"
          ],
          "name": "stdout"
        }
      ]
    },
    {
      "cell_type": "code",
      "metadata": {
        "id": "8lusK0lOzpaV",
        "colab_type": "code",
        "colab": {
          "base_uri": "https://localhost:8080/",
          "height": 74
        },
        "outputId": "10bb58fa-c23b-4fc2-ca9c-3c2abbab2260"
      },
      "source": [
        "from fuzzywuzzy import process\n",
        "\n",
        "def recommender(user_name, data,model, n_recommendations):\n",
        "    model.fit(data)\n",
        "    idx=process.extractOne(user_name, views_df['post_id'], score_cutoff=0)[2]\n",
        "    print('Name Selected: ', user_name, 'Index: ',idx)\n",
        "    print('Searching for post recommendations.....')\n",
        "    distances, indices=model.kneighbors(data[idx], n_neighbors=n_recommendations)\n",
        "    for i in indices:\n",
        "        print(views_df['post_id'][i].where(i!=idx))"
      ],
      "execution_count": null,
      "outputs": [
        {
          "output_type": "stream",
          "text": [
            "/usr/local/lib/python3.6/dist-packages/fuzzywuzzy/fuzz.py:11: UserWarning: Using slow pure-python SequenceMatcher. Install python-Levenshtein to remove this warning\n",
            "  warnings.warn('Using slow pure-python SequenceMatcher. Install python-Levenshtein to remove this warning')\n"
          ],
          "name": "stderr"
        }
      ]
    },
    {
      "cell_type": "code",
      "metadata": {
        "id": "73kjlC9K5cJE",
        "colab_type": "code",
        "colab": {
          "base_uri": "https://localhost:8080/",
          "height": 439
        },
        "outputId": "ec612eb6-5be4-4880-c4ec-2f6707f6cf04"
      },
      "source": [
        "# Give any name from the given snippet to check the results\n",
        "\"\"\"\"\"\"\"\"\"\"\"\"\"\"\"\"\"\"\"\"\"\"\"\"\"\"\"\"\"\"\"\"\"\"\"\"\"\"\"\"\"\"\"\"\"\"\"\"\"\"\"\"\"\"\"\"\"\"\"\"\"\"\"\"\"\"\"\"\"\"\"\"\"\"\"\"\"\"\"\"\"\"\"\"\"\"\"\"\"\"\"\"\"\"\"\"\"\"\"\"\"\"\"\"\"\"\"\"\"\"\"\"\"\"\"\"\"\"\"\"\"\"\"\"\"\n",
        "array(['Nivesh Singh Chauhan', 'Gaurav Sharma', 'Akshay Mishra',\n",
        "       'Saksham Mathur', 'Varun Chowhan', 'Boshi Kaviya',\n",
        "       'Nischaya Sharma', 'thesocialcomment', 'MAAZ AHMAD RABBANI',\n",
        "       'siddharth saxena', 'BHASKAR MISHRA', 'hritik chaturvedi',\n",
        "       'Aryan Malakar', 'Parvez Khan', 'Angelina Christi',\n",
        "       'Niriksha Sharma', 'Nimish Sharma', 'Rashi Jain',\n",
        "       'Nachiket Khatri', 'Ojasvi Arya', 'Sneha Shekhawat',\n",
        "       'Nikhil Sharma', 'Utkarsh Saini', 'Arunav Moitra',\n",
        "       ...........................................................\n",
        "       'Parth Praveen Deokar', 'RAGHUNATH DHANDAPANI', 'Rajesha CT',\n",
        "       'Saumik Satapathy', 'Manish Nehra', 'Mohd Junaid Mansuri',\n",
        "       'Mukesh', 'Neha', 'Saumya Singh', 'Arman Lalani', 'BOBIL SINGH',\n",
        "       'RUSHIKESH CHAUDHARI', 'Steve', 'Himanshu Singh', 'Parth Vijay',\n",
        "       'Abhishek Mishra', 'gauri raskar'], dtype=object)\n",
        "\"\"\"\"\"\"\"\"\"\"\"\"\"\"\"\"\"\"\"\"\"\"\"\"\"\"\"\"\"\"\"\"\"\"\"\"\"\"\"\"\"\"\"\"\"\"\"\"\"\"\"\"\"\"\"\"\"\"\"\"\"\"\"\"\"\"\"\"\"\"\"\"\"\"\"\"\"\"\"\"\"\"\"\"\"\"\"\"\"\"\"\"\"\"\"\"\"\"\"\"\"\"\"\"\"\"\"\"\"\"\"\"\"\"\"\"\"\"\"\"\"\"\"\n",
        "\n",
        "recommender('Saumya Singh', views_mat, model_knn,20)\n"
      ],
      "execution_count": null,
      "outputs": [
        {
          "output_type": "stream",
          "text": [
            "Name Selected:  Saumya Singh Index:  31\n",
            "Searching for post recommendations.....\n",
            "31                         NaN\n",
            "75    5e9806f5a3258347b42f2b61\n",
            "66    5eabfaf510426255a7aa9da0\n",
            "62    5eb1ac4510426255a7aaa024\n",
            "64    5eac350110426255a7aa9e92\n",
            "88    5ea3236810426255a7aa9ac8\n",
            "76    5ea7cd9610426255a7aa9bd2\n",
            "77    5e9eececa3258347b42f2e11\n",
            "78    5ea323a010426255a7aa9aca\n",
            "79    5ea8618a10426255a7aa9c0d\n",
            "80    5eaaffe110426255a7aa9c5b\n",
            "81    5ea1603a10426255a7aa9a3e\n",
            "82    5e9db770a3258347b42f2dcf\n",
            "83    5ea11fbd10426255a7aa9a38\n",
            "84    5ea319ee10426255a7aa9aa4\n",
            "85    5ea1ef0710426255a7aa9a7e\n",
            "86    5ea31ee710426255a7aa9ab3\n",
            "87    5ea3227010426255a7aa9ac1\n",
            "63    5d62abaa65218653a132c956\n",
            "68    5ea30f6010426255a7aa9a9c\n",
            "Name: post_id, dtype: object\n"
          ],
          "name": "stdout"
        }
      ]
    },
    {
      "cell_type": "markdown",
      "metadata": {
        "id": "LE33dK4zXlfP",
        "colab_type": "text"
      },
      "source": [
        "### Result: Recommend similar posts for the given post"
      ]
    },
    {
      "cell_type": "code",
      "metadata": {
        "id": "9qE73S4vV80k",
        "colab_type": "code",
        "colab": {}
      },
      "source": [
        "def recommender(posts_id, data,model, n_recommendations):\n",
        "    model.fit(data)\n",
        "    idx=process.extractOne(posts_id, views_df['post_id'], score_cutoff=0)[2]\n",
        "    print('Post Selected: ',views_df['post_id'][idx], 'Index: ',idx)\n",
        "    print('Searching for similar post recommendations.....')\n",
        "    distances, indices=model.kneighbors(data[idx], n_neighbors=n_recommendations)\n",
        "    for i in indices:\n",
        "        print(views_df['post_id'][i].where(i!=idx))"
      ],
      "execution_count": null,
      "outputs": []
    },
    {
      "cell_type": "code",
      "metadata": {
        "id": "58_qVydCWfW9",
        "colab_type": "code",
        "colab": {
          "base_uri": "https://localhost:8080/",
          "height": 439
        },
        "outputId": "bce84c0e-2c06-498c-b089-06a031dcc10d"
      },
      "source": [
        "# Give any post_id from the given snippet to check the results\n",
        "\"\"\"\"\"\"\"\"\"\"\"\"\"\"\"\"\"\"\"\"\"\"\"\"\"\"\"\"\"\"\"\"\"\"\"\"\"\"\"\"\"\"\"\"\"\"\"\"\"\"\"\"\"\"\"\"\"\"\"\"\"\"\"\"\"\"\"\"\"\"\"\"\"\"\"\"\"\"\"\"\"\"\"\"\"\"\"\"\"\"\"\"\"\"\"\"\"\"\"\"\"\"\"\"\"\"\"\"\"\"\"\"\"\"\"\"\"\"\"\"\"\"\"\"\"\n",
        "array(['5ed3820f76027d35905ccac8', '5ed1ff0276027d35905cc60d', '5ecf96e876027d35905cbf46', '5ecfa0ca76027d35905cbf57',\n",
        "       '5ed0e20776027d35905cc2fe', '5ecfffb976027d35905cc0e9', '5ecfafcc76027d35905cbfb0', '5ed09ad076027d35905cc15f',\n",
        "       '5e90208ca3258347b42f2730', '5e9028cea3258347b42f2736', '5e91a2dda3258347b42f276d', '5e895ceca3258347b42f25b6', \n",
        "       '5e8c993da3258347b42f264d', '5e4edd87f5561b1994c8e497', '5e4ba8b2f5561b1994c8e39f', '5e84657da3258347b42f2452',\n",
        "       '5db2b91a99cbb90e4339c749', '5e81bc41a3258347b42f220a', '5e81bf73a3258347b42f2257', '5e81bf2fa3258347b42f2244',\n",
        "       '5e81bfe5a3258347b42f226a', '5e81c06ba3258347b42f227d', '5e81c0cba3258347b42f2290', '5e81c101a3258347b42f22a3',\n",
        "       '5e81c15aa3258347b42f22b6', '5e81c1e6a3258347b42f22dd', '5e78ae4ccfc8b713f5ac7cde', '5e7c78fdcfc8b713f5ac7daa',\n",
        "       '5d80e7c16c53455f896e6014', '5eca7601ec493f4a26558a62', '5ed141aa76027d35905cc4c9', '5ed175f176027d35905cc554',\n",
        "       '5ed0f0c576027d35905cc3c7', '5ed0e65976027d35905cc356',\n",
        "              ...........................................................\n",
        "       '5ed237d676027d35905cc6bd', '5ed23c1876027d35905cc761', '5ed23c8676027d35905cc780', '5ed23cf876027d35905cc790',\n",
        "       '5ed23e4d76027d35905cc7b8', '5ed2378276027d35905cc6b5', '5de179d80eb5e25a8a07f079', '5ed175f476027d35905cc562',\n",
        "       '5ed0007a76027d35905cc0ea', '5ed23d4276027d35905cc798', '5ed4cbadbd514d602c1531a6']     \n",
        "       \n",
        "\"\"\"\"\"\"\"\"\"\"\"\"\"\"\"\"\"\"\"\"\"\"\"\"\"\"\"\"\"\"\"\"\"\"\"\"\"\"\"\"\"\"\"\"\"\"\"\"\"\"\"\"\"\"\"\"\"\"\"\"\"\"\"\"\"\"\"\"\"\"\"\"\"\"\"\"\"\"\"\"\"\"\"\"\"\"\"\"\"\"\"\"\"\"\"\"\"\"\"\"\"\"\"\"\"\"\"\"\"\"\"\"\"\"\"\"\"\"\"\"\"\"\"\n",
        "\n",
        "recommender('5ec57914f2781131cc7e51c8', views_mat, model_knn,20)"
      ],
      "execution_count": null,
      "outputs": [
        {
          "output_type": "stream",
          "text": [
            "Post Selected:  5ec57914f2781131cc7e51c8 Index:  26\n",
            "Searching for similar post recommendations.....\n",
            "26                          NaN\n",
            "96     5e964bcea3258347b42f2a96\n",
            "90     5e9f3e1aa3258347b42f2e39\n",
            "68     5ea30f6010426255a7aa9a9c\n",
            "86     5ea31ee710426255a7aa9ab3\n",
            "64     5eac350110426255a7aa9e92\n",
            "22     5eca8fceeaff6b0c3a58a3c0\n",
            "40     5ec2215374f7660d73aa1011\n",
            "115    5e9754efa3258347b42f2ae8\n",
            "108    5e9a7e73a3258347b42f2c24\n",
            "49     5eb1407c10426255a7aa9fdb\n",
            "57     5eaf8b9310426255a7aa9f7e\n",
            "67     5eabeec210426255a7aa9cd2\n",
            "79     5ea8618a10426255a7aa9c0d\n",
            "80     5eaaffe110426255a7aa9c5b\n",
            "82     5e9db770a3258347b42f2dcf\n",
            "83     5ea11fbd10426255a7aa9a38\n",
            "84     5ea319ee10426255a7aa9aa4\n",
            "81     5ea1603a10426255a7aa9a3e\n",
            "73     5eab962e10426255a7aa9cb8\n",
            "Name: post_id, dtype: object\n"
          ],
          "name": "stdout"
        }
      ]
    },
    {
      "cell_type": "code",
      "metadata": {
        "id": "P_2dUyjDZch-",
        "colab_type": "code",
        "colab": {}
      },
      "source": [
        ""
      ],
      "execution_count": null,
      "outputs": []
    }
  ]
}