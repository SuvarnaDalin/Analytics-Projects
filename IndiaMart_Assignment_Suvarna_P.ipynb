{
  "nbformat": 4,
  "nbformat_minor": 0,
  "metadata": {
    "colab": {
      "name": "IndiaMart_Assignment_Suvarna_P.ipynb",
      "provenance": [],
      "collapsed_sections": [],
      "authorship_tag": "ABX9TyNCEaHsZNAe+wf7TPftt9Dz",
      "include_colab_link": true
    },
    "kernelspec": {
      "name": "python3",
      "display_name": "Python 3"
    }
  },
  "cells": [
    {
      "cell_type": "markdown",
      "metadata": {
        "id": "view-in-github",
        "colab_type": "text"
      },
      "source": [
        "<a href=\"https://colab.research.google.com/github/SuvarnaDalin/Analytics-Projects/blob/master/IndiaMart_Assignment_Suvarna_P.ipynb\" target=\"_parent\"><img src=\"https://colab.research.google.com/assets/colab-badge.svg\" alt=\"Open In Colab\"/></a>"
      ]
    },
    {
      "cell_type": "code",
      "metadata": {
        "id": "EFMhJ5Ez2GSQ",
        "outputId": "d2d7175e-1b79-4de9-9b84-22babb868c10",
        "colab": {
          "base_uri": "https://localhost:8080/",
          "height": 129
        }
      },
      "source": [
        "!pip install requests"
      ],
      "execution_count": 1,
      "outputs": [
        {
          "output_type": "stream",
          "text": [
            "Requirement already satisfied: requests in /usr/local/lib/python3.6/dist-packages (2.23.0)\n",
            "Requirement already satisfied: chardet<4,>=3.0.2 in /usr/local/lib/python3.6/dist-packages (from requests) (3.0.4)\n",
            "Requirement already satisfied: urllib3!=1.25.0,!=1.25.1,<1.26,>=1.21.1 in /usr/local/lib/python3.6/dist-packages (from requests) (1.24.3)\n",
            "Requirement already satisfied: idna<3,>=2.5 in /usr/local/lib/python3.6/dist-packages (from requests) (2.10)\n",
            "Requirement already satisfied: certifi>=2017.4.17 in /usr/local/lib/python3.6/dist-packages (from requests) (2020.6.20)\n"
          ],
          "name": "stdout"
        }
      ]
    },
    {
      "cell_type": "code",
      "metadata": {
        "id": "n8h2w7PxzmoH",
        "outputId": "76a35e5a-afb8-46ad-d094-33e839dd0afd",
        "colab": {
          "base_uri": "https://localhost:8080/",
          "height": 35
        }
      },
      "source": [
        "!pip install beautifulsoup4"
      ],
      "execution_count": 2,
      "outputs": [
        {
          "output_type": "stream",
          "text": [
            "Requirement already satisfied: beautifulsoup4 in /usr/local/lib/python3.6/dist-packages (4.6.3)\n"
          ],
          "name": "stdout"
        }
      ]
    },
    {
      "cell_type": "code",
      "metadata": {
        "id": "JThp07yLG9IV"
      },
      "source": [
        "from urllib.request import Request, urlopen\n",
        "#import requests\n",
        "from bs4 import BeautifulSoup\n",
        "import csv"
      ],
      "execution_count": 2,
      "outputs": []
    },
    {
      "cell_type": "code",
      "metadata": {
        "id": "-hOBjo0lzwo6"
      },
      "source": [
        "URL = 'https://www.agtta.co.in/individuals.php'\n",
        "req = Request(URL)\n",
        "page = urlopen(req)\n",
        "\n",
        "soup = BeautifulSoup(page, 'html.parser')"
      ],
      "execution_count": 3,
      "outputs": []
    },
    {
      "cell_type": "code",
      "metadata": {
        "id": "v1Ht7Y6rcsZS"
      },
      "source": [
        "#soup.prettify()"
      ],
      "execution_count": 27,
      "outputs": []
    },
    {
      "cell_type": "code",
      "metadata": {
        "id": "oHVAiDLBuOJs"
      },
      "source": [
        "person_details = soup.find_all('section', attrs={'style':'margin-top: 40px;'})\n",
        "#person_details\n"
      ],
      "execution_count": 28,
      "outputs": []
    },
    {
      "cell_type": "code",
      "metadata": {
        "id": "uVyXetekIi1l",
        "outputId": "756c566c-ac5e-457c-9620-d06c19422f1e",
        "colab": {
          "base_uri": "https://localhost:8080/",
          "height": 1000
        }
      },
      "source": [
        "create_file = open('individuals.csv', 'wt')\n",
        "writer = csv.writer(create_file)\n",
        " \n",
        "# write title row\n",
        "writer.writerow(['Contact Persona Name', 'Company Name', 'Address', 'Email', 'Phone Numbers', 'Route', 'B Date', 'J Date'])\n",
        "\n",
        "\n",
        "for person in person_details:\n",
        "  detail_set = person.find_all('div', class_=\"b-branches__item\")[0]\n",
        "\n",
        "  contact_name = person.find('h3', class_=\"b-branches__title ui-title-inner ui-title-inner_lg\").text.strip()\n",
        "  mob_no1 = person.find('i', class_ = 'icon fa').text.strip()\n",
        "\n",
        "  firm = detail_set.text.strip()[4:]\n",
        "  address = detail_set.find_next_siblings('div')[0].text.strip()[8:]\n",
        "\n",
        "  em = detail_set.find_next_siblings('div')[1].text.strip()[0:5]\n",
        "  em_val = detail_set.find_next_siblings('div')[1].text.strip()[6:]\n",
        "  email = em_val if em == \"Email\" else ' '\n",
        "\n",
        "  ph = detail_set.find_next_siblings('div')[2].text.strip()[0:8]\n",
        "  ph_val = detail_set.find_next_siblings('div')[2].text.strip()[9:]\n",
        "  phone_no = ph_val if ph == \"Phone No\" else ' '\n",
        "    \n",
        "  detail_set = detail_set.find_next_siblings('div')[2]\n",
        "\n",
        "  rt = detail_set.find_next('div').text.strip()[0:5]\n",
        "  rt_val = detail_set.find_next('div').text.strip()[6:]\n",
        "  route = rt_val if rt == \"Route\" else ' '\n",
        "  detail_set = detail_set.find_next('div')\n",
        "\n",
        "  bd = detail_set.find_next('div').text.strip()[0:7]\n",
        "  bd_val = detail_set.find_next('div').text.strip()[8:]\n",
        "  bdate = bd_val if bd == \"B. Date\" else ' '\n",
        "  detail_set = detail_set.find_next('div')\n",
        "\n",
        "  jd = detail_set.find_next('div').text.strip()[0:7]\n",
        "  jd_val = detail_set.find_next('div').text.strip()[23:]\n",
        "  jdate = jd_val if jd == \"J. Date\" else ' '\n",
        "\n",
        "\n",
        "  print(contact_name + ' ' + firm + ' ' + address + ' ' + email + ' ' + phone_no + ' ' + route + ' ' + bdate + ' ' + jdate + ' ')\n",
        "  writer.writerow([contact_name, firm, address, email, phone_no, route, bdate, jdate])\n",
        "\n",
        "create_file.close()"
      ],
      "execution_count": 25,
      "outputs": [
        {
          "output_type": "stream",
          "text": [
            "SHRI RAMESHBHAI P. SAKARIYA  RJT Roadlines P. N. Chambers, Nr. Patel Vihar, Ahmedabad Highway, Navagam, Rajkot-360003.  rjt_roadlines@yahoo.com  281-2456192, 281-2474508, 281-2457696 Rajkot to Maharashtra, Karnataka, Goa, Andrapradesh-Full truck load 1962-05-28 (587) 29-12-06 \n",
            "SHRI MANGESHBHAI T. DESAI  Om Roadlines 147-148, R.M.C. Transport Nagar, Nr. Marketing Yard, Rajkot-3.  omroadlines999@yahoo.in  281-2707399, 281-2705996       \n",
            "SHRI MUKESHBHAI F. SHARMA  Priti Roadlines Rajkot-Ahmedabad Highway, Nr. Telephone Exchang, Maliyasan, Rajkot-360003.  sbtc.rajkot@gmail.com  281-2787669 Maliyasan to Tamilnadu Full Truck Load 1972-10-12 (366) 22-12-09 \n",
            "SHRI BALDEVSINH HARISINHJI RANA  Shri Laxmi Transport Service Kuvadva Road, Rajkot-360003.  baldevsinhrana@rediffmail.com  281-2456252, 281-2457253 Rajkot to Jamnagar Full/Part Truck Load 1962-07-28 (205) 28-03-09 \n",
            "SHRI JAYKISHANBHAI G. BALA  C/o. Shri Transport Company Ambica Way-Bridge, Bhakti nagar Godown Road, Rajkot.  darshanbala16@gmail.com  281-2461120, 281-2461121, 281-2461202 Rajkot to Delhi Full Truck Load 1957-08-10 (223) 27-08-2000 \n",
            "SHRI DAMJIBHAI LAXMANBHAI BUSHA  Uday Roadways Mira udyog, plot no-1, Ajidem ring road, B/s. Bansidhar Way-bridge, Rajkot.  ripalbusa@gmail.com  281-2324251 Rajkot to All Gujarat Part booking     \n",
            "SHRI DASHRATHSINH B. GOHIL  Shram Shraddha Transport Shop No. 25/26,  Nr. Marketing Yard, R.M.C. Market Yard, Rajkot.  dashuparmar9589@gmail.com  281-2701848, 281-2701848 Rajkot.to All Gujarat-Full truck load 1961-04-02 (874) 26-06-2004 \n",
            "SHRI VALJIBHAI CHATRABHUJ NANDA  Nanda Roadways National Highway No. 8-B, Ahmedabad Road, Nr. Navagam, Rajkot ? 360003  dhruvnanda1512@gmail.com  281-2703005, 281-2702479 Rajkot to Mumbai Full Truck Load 1945-07-02 (629) 08-09-2003 \n",
            "SHRI JAYESHBHAI M. PARMAR  Milan Cargo Movers Pvt. Ltd. Shivkrupa, 9, Ranchhodnagar Soc., Kuvadava Road, Rajkot-360003.           \n",
            "SHRI M. SHRINIVASAN  Shrinivasa Transport Nr. Reliance Petrol pump, N.H.No. 8B, Maliyasan, Rajkot.  srinivaasatransport.m@gmail.com  281-2787277 Rajkot to Kerala, Karnataka, Tamilnadu Full/Part Truck Load 1978-06-27 (450) 30-12-09 \n",
            "SHRI JAYENDRASINH P. PARMAR  Markand Transport Shop no. 64-65, RMC Transport Nagar, B/s. Marketing Yard, Rajkot-360003.           \n",
            "SHRI SANJAYBHAI N. KUMBHARVADIYA  Shri Yadunandan Transport Sheri no. 4, Momai Nivas, Sahkar Society, B/s. Gayatri Nagar, Rajkot.           \n",
            "SHRI KULDIPSINH G. GOHIL  Mandavraiji Transport Shop No. 81, RMC Transport Nagar, B/s. Marketing Yard, Rajkot-360003.           \n",
            "SHRI DASHRATHSINH K. PARMAR  Mandavraiji Transport Shop No. 81, RMC Transport Nagar, B/s. Marketing Yard, Rajkot-360003.           \n",
            "SHRI MAVJIBHAI B. DODIA  C/o. Manohar Transport Late Santokben Bhagwanbhai Dodiya Charitable Trust, Manohar Plot, Sheri No. 9, Nr. Vima Yojna Dawakhana, Rajkot.  kartikdodiya88@gmail.com  281-2481900, 281-2461982 Rajkot to All over India Full Truck Load 1948-07-25 (21) 05-05-2005 \n",
            "SHRI UDAYRAJA M. GAUNDER  Abad Roadways Pvt. Ltd. B/s. A-One Cement, Opp. Amul Pulse, Kandla Highway, Morbi (Rajkot)-363642.  aabadmru8099@gmail.com, vtc.morbi2711@gmail.com  2822-241657, 2822-243425 Morbi to Tamilnadu, Kerala, Pondicherry-Full Truck Load 1974-06-15 (350) 21-12-09 \n",
            "SHRI V. MANIMARAN  Raja Transport Co. B/s. Dharma Way-Bridge, N.H.No. 8A, Makansar, Morbi-363642.  srirajaroadways@yahoo.in  2822-283744, 2822-283733 Morbi to Tamilnadu, Kerala, Pondicherry, Karnataka Full/Part Truck Load 1976-10-06 (351) 21-12-09 \n",
            "SHRI JUDAH EMMENUAL CRITSTIAN  Tamilnadu Transport Aswamegh Hotel, Kandla Highway, Morbi-363642.           \n",
            "SHRI KAUSHIKBHAI P. RAVAL  Aman Transport Morbi Wankaner Highway, Makansar, Morbi-363642.   2822-283990, 9725294432 Morbi to Tamilnadu, Karnataka, Pondicherry, Kerala-Full Truck Load     \n",
            "SHRI RANABHAI SAVJIBHAI MIYATRA  Kanaiya Transport Block No. 93, Nityanand Society, B/h. Vora Bag, Morbi-363642.  shahpuraroadliness@yahoo.in  2822-240217 Morbi to Delhi, Rajasthan Full/Part Truck Load 1967-10-21 (383) 29-12-09 \n",
            "SHRI RAMESHBHAI PRABHATBHAI DANGAR  Shahpura Roadlines Nr. Ashwamegh Hotel, Kandla Highway, N.H.No. 8A, Morbi-363642.  shahpuraroadliness@yahoo.in  2822-240217 Morbi to Delhi, Rajasthan Full/Part Truck Load 1985-12-26 (384) 29-12-09 \n",
            "SHRI VINODKUMAR KHIMJIBHAI LAVADIYA  Yadav Trailor Transport Co. Opp. Sanora Siramik, N.H.No. 8A, Morbi-363642.  shahpuraroadliness@yahoo.in  2822-240217     (385) 29-12-09 \n",
            "SHRI RAYDHANBHAI VIRABHAI DANGAR  Yadav Transport Opp. Sanora Siramic, N.H.No. 8A, Morbi-363642.  shahpuraroadliness@yahoo.in  2822-240217 Morbi to Delhi, Rajasthan Full/Part Truck Load 1955-06-10 (386) 29-12-09 \n",
            "SHRI SURESHBHAI CHANDUBHAI DANGAR  Murlidhar Transport Nr. Ashwamegh Hotel, Kandla Highway, N.H.No. 8A, Morbi-363642.  shahpuraroadliness@yahoo.in  2822-240217       \n",
            "SHRI KISHORBHAI PRABHATBHAI DANGAR  Yadav Trailor Transport Co. Opp. Sanora Siramic, N.H.No 8A, Morbi-363642.  shahpuraroadliness@yahoo.in  2822-240217 Morbi to Delhi, U.P., Haryana Full Truck Load 1987-11-12 (388) 29-12-09 \n",
            "SHRI RAJJAKBHAI FATEHKHAN KAMKYANI  K. K. Roadways Nr.. Vasundhara Hotel, Kandla Highway, Morbi-2.           \n",
            "SHRI SARDOOLSINGH MALHI  Malhi Motor Road Carriers Shop No. 6/7, N. H. No. 8-A, Kandla Road, Anand Complex, Laxminagar, Morbi-2           \n",
            "SHRI PRAHLADBHAI R. MEENA  Delhi Rajasthan Freight Carriers Flat No. 301, Third Floor, Om Residency-A, Nr. Laxmi Narayan Society, Tarajpar, Morbi-2.           \n",
            "SHRI SURINDERSINGH B. HARD  Barnala Road Carriers Vardhanan Apartment Flate No. 603, Laxminarayan Society, Morbi-363642.           \n",
            "SHRI MOHINDERSINGH B. DHANIWAL  Gauhati Rajasthan Tradelink Vardhanan Apartment Flate No. 603, Laxminarayan Society, Morbi-363642.           \n",
            "SHRI CHINTANBHAI R. BHATT  Kuldevi Freight Carriers Giriraj Society, Nr. Anand, Morbi.           \n",
            "SHRI RAMCHANDRABHAI CHHOTURAM BARALA  Shri Shyam Transport Co. Vidhyut Nagar, Bunglow No. 32 Nr. Bansi Pan, Morbi-2.           \n",
            "SHRI RADHAKISHAN S. BISHNOI  Rajkot Bikaner Transport Co. Bansi Chamber, Opp. Vasundhara Hotel, Kandla Highway, Morbi-2.           \n",
            "SHRI DINESHBHAI BISNOI  Bansi Chamber, Opp. Vasundhara Hotel, Kandla Highway, Morbi-2.           \n",
            "SHRI AMITBHAI H. PATEL  Shri Patel Transport 8-A, National Highway, Kandla Road, B/H. Satnam Waybridge, Morbi-2.           \n",
            "SHRI DILIPBHAI B. RAJGOR  Rajgor Transport National Highway No. 8, B/H. Meldi Mata's Temple, Morbi-2.           \n",
            "SHRI PRAVINBHAI J. DALSANIYA  R. J. T. Transport National Highway No. 8-A, B/S. Patel Vihar Hotel, Morbi.           \n",
            "SHRI ASALAMKHAN HAJI A. PATHAN  Bhati Roadlines 37, Manek Chambers, N.H. No. 8,  Nr. Dariyalal Waybridge, Morbi-363642.  aslambhati25@gmail.com  2822-240807 Morbi to Rajasthan, Karnataka, Andhra pradesh-Full Truck Load 1980-07-25 234 (18-09-14) \n",
            "SHRI MUKESHKUMAR N. RAHAR  Delhi Asam Road Carriers N. H. No. 8, Parmeshwar Way-Bridge, Nr. Kaveri Ceramics, Morbi-363642.           \n",
            "SHRI CHANDERPAL BIRBALRAM SHARMA  Govahati Gujarat Transport Co. Plot No. 39, \"Maruti Nandan\", Dharma city Society, Nr. Milan Park, Nr. So ordi Main, Morbi-363642.  ggtc7755@gmail.com  2822-282008 Morbi to Bihar, Bangal, Jharkhand, Assam Full Truck Load 1977-06-04 270 (13-10-14) \n",
            "SHRI HIRALAL M. SHARMA  Radhey Roadways New Shopping Centre, New Sitaram Hotel, Kandla Road, N. H. No.8, Morbi-363642           \n",
            "SHRI KIRITBHAI M. BHADRA  C/o, Jamnagar Transport Service Ghanshyamwadi, Potari Gali Jamnagar ? 361001  kiritmbhadra@gmail.com  288-2570280, 79-26891123 Mithapur, Jamnagar, Rajkot, Ahmedabad, Baroda, Khambhaliya Khavdi- Daily Parcel-Reliance Service Booking & Deli. 1960-06-23 (673) 09-09-2003 \n",
            "SHRI JAYENDRASINH M. JADEJA  Jay  Dwarkadhish Transport K. V. Road, Opp. Bardan Tin Factory, Jamnagar-361001.  rajdeepsecurities@hotmail.com  288-2540909 Jamnagar to All Over India Full Truck Load 1969-08-25 (670) 09-09-2003 \n",
            "SHRI NAVALSINH POPATBHAI JADEJA  C/o, Jamnagar Co. Op. Society Ltd. Railway  Saiding, K. B. Road, Jamnagar-361001           \n",
            "SHRI HEMALBHAI MAHESHBHAI VASANT  Sadhna Logistics Transport Co. Ghanshyamvadi, Potrigali, Jamnagar-361001.  rfcjamho@blownbuddha.com  288-2552488 Jamnagar to Maharashtra-Mumbai, Andheri, Bhivandi-Full Truck Load 1974-04-09 (680) 09-09-2003 \n",
            "SHRI IBRAHIMALI A. SAIYAD  C/o. ORIENT LOGISTICK INDIA shop No.210, 2nd floor, Mile stone complex, K. V. Road, Nr. Nagnath Gate, Jamnagar -361001           \n",
            "SHRI MAHENDRABHAI J. KOTHARI  Sunil Transport C/2, Bharat Chamber Bardanwala Road, Grain Market, Jamnagar - 361001  mkothari4444@gmail.com  288-2568658 Jamnagar to Baroda (Govt. Conttractor) Full Truck Load 1953-03-26 (674) 09-09-2003 \n",
            "SHRI HARISHBHAI N. CHIMNANI  Vikas Parcel Service Opp. Old Bus Stand, Shihor ? 364240  luckeychimnani@gmail.com  2846-231031 Shihor to Rajkot, Bhavnagar & A?Bad to Bhavnagar Part Truck Load 1955-12-21 (534) 06-08-2003 \n",
            "SHRI VIJAYBHAI T. DESAI  Aakash Transport Co. 8, Sanghavi Cham., Nr. Incometax Office, Amreli-365601.  akashtransport99@yahoo.com  2792-222399 Amreli to All over India Full Truck Load 1962-12-21 (459) 01-04-10 \n",
            "SHRI MERAMANBHAI K. PAMPANIYA  Utsav Minerals Tra. At. Ajotha, Ta. Veraval, Via Prabhash Patan, Dist. : Junagadh.  vikramconstruction@hotmail.com  2876-287227 Veraval to Maharashtra, Dahej Ahmedabad Full Truck Load 1957-09-01 003 (19-11-12) \n",
            "SHRI VIJAYBHAI R. KHAKHARIYA  C/o, Mamta Roadways B/h. Halar House, Nagnath Gate, Swaminarayan Nagar Indira Road, Jamnagar ? 361001  vijay_khakharia@rediffmail.com  288-2911356, 288-2751579 Jamnagar to Ahmedabad Part Truck Load 1956-09-25 (681) 09-09-2003 \n",
            "SHRI JAYVANTBHAI R. CHAVDA  Kaushik Roadlines Marketing Yard, B/s. Way Bridge, Nr. RTO Office, Rajkot-360003.           \n",
            "SHRI HIRENBHAI M. MEHTA  Hiren Transport Co. G/B/2, Shreyas Society, Race Course Ring Road, Rajkot-360001.           \n",
            "SHRI YUNUSHBHAI M. BHAIYA  Bhaiya Transport Pvt. Ltd. Gondal Road, Offside Charbhuja Marbal, Before Old Jakatnaka, Rajkot-360001.           \n",
            "SHRI MANVIRBHAI P. RATHOD  Yadav Roadlines B/s. Delux Cinema, Kuvadava Road, Rajkot.   281-2456488 Rajkot to Karnataka, Banglore Full Truck Load 1976-05-20 613 (23-04-18) \n",
            "SHRI GAURAVBHAI D. GUPTA  Bansal Cargo Movers 2/10, Bhaktinagar Station Plot, Rajkot.  gaurav@bansalcargo.com  281-2462138 Rajkot to All Over India Full Truck Load Specially for Rajasthan, Delhi 1978-02-03 614 (23-04-18) \n",
            "SHRI VIRALBHAI D. CHAVDA  Krishna Transport RMC Transport, Nr. Market Yard, Rajkot.  viral.chavda9@gmail.com  281-2707630 Rajkot to All over Gujarat Maharashtra, Puna Full Truck Load 1987-05-28 615 (23-04-18) \n",
            "SHRI PADAMSINGH  Ramdev Transport Co. Nr. Omkar petrolpump, National Highway 8A, Lalpar, Morbi-363642.           \n",
            "SHRI BHAKARRAM DEWASI  Bhilwada Roadways First Floor, Bansi Chamber, Opp. Vasundhara Hotel, National Highway, Morbi-363642.           \n",
            "SHRI HANSRAJ B. KILKA  Shri Salasar Roadlines Nr. New Satnam Way Bridge, Nr. Ashwamegh Hotel, National Highway, Morbi-363642.           \n",
            "SHRI MANIRAM JAYANI  Shri Marudhar Roadlines Nr. New Satnam Way Bridge, Nr. Ashwamegh Hotel, National Highway, Morbi-363642.           \n",
            "SHRI AJAYBHAI B. SABAD  Yadunandan Transport 5, Gundavadi, Opp. Ramji Mandir, Rajkot-360002.           \n",
            "SHRI ARJANBHAI J. SABHAD  Dwarkadhish Roadlines Kuvadava Road, Greenland Chokdi, Rajkot-360003.   281-2702738 Rajkot to Karnataka, Banglore Full Truck Load 1953-10-07 682 (23-07-2018) \n",
            "SHRI RAJANBHAI K. BORICHA  Shri Yadunandan Transport Blok No. 224, Kothariya Colony, 80' Ring Road, Rajkot-360002.           \n",
            "SHRI KALUBHAI J. KHAMBHALIYA  Jay Vadvala Roadlines Transportnagar, Rajkot-360003.           \n",
            "DR. RAMBHAI V. SOLANKI  Yadav Carriers Pvt. Ltd. ?Yadav House?, Nr. Minaxi Hotel, Junagadh Road,  Veraval-362266.  yadav_carrier@yahoo.com  2876-222033       \n",
            "SHRI RAHIMBHAI S. METAR  Limda Transport Limda Street, Danapith, B/h. Sakarbazar, Bhavnagar-364001.  rahimmetar1964@gmail.com  278-2426849, 278-2518073 Transport Contractors Bhavnagar to Gadhda (Swaminarayan) Daily Service 1964-04-07 (458) 07-04-2003 \n",
            "SHRI PRAVINBHAI G. VASANT  Vasant Transport Service Kalyan, Kuvadva Road, Rajkot.  pravingvasant@gmail.com  281-2473592, 281-2472801 Rajkot to All Over Saurashtra Full/Part Truck Load 1953-03-03 7 \n",
            "SHRI MAHESHBHAI K. VASANT  Sadhna Logistics Tran. Co Ghanshyamwadi, Potrigali, Jamnagar - 361001  rfcjamho@blownbuddha.com  288-2552488, 288-2552488 Jamnagar to Maharashtra-Mumbai, Andheri, Bhivandi, Full Truck Load 1944-04-07 3 \n",
            "SHRI KAMLESHKUMAR  M. VASANT  C/o.Vasant Roadways Kukada Press Ginning Compound, Nr. Mehta Market,  Surendranagar-363001  kmvasant@rediffmail.com  2752-223984, 2752-220207 Ahmedabad to Surendranagar, Morbi & Wankaner (Parcel Booking) 1964-01-27 3 \n",
            "SHRI NAGDANBHAI K. KANGADH  R. K. Transport Nr. Post Office, Manavadar - 362630  rajkangad@gmail.com  2874-221430 Manavadar to All over India Full Truck Load 1962-12-29 ) \n",
            "SHRI AJITSINH G. SODHA  C/o. Shri Dwarkadhish Roadlines Shop No. 11, Khijadiya Complex, Nr. IBP Raja Petrolpump, Jamnagar-361001.           \n",
            "SHRI AMITABHBHAI TIWARI  Shri Logistics Khijadiya Complex, Nr. IBP Raja Petrolpump, Jamnagar-361001.           \n",
            "SHRI MALKITSINGH MALHI  Malhi Frieght Carrier Jambudo Patiya, Jamnagar-Rajkot Highway, Jamnagar-361001.           \n",
            "SHRI VIDYUTBHAI G. JOSHI  Karnavati Transport Company 1129, Kotni Rang, Sarangpur, Ahmedabad-380002  karnavatitransport@gmail.com  79-22114311, 79-25715727 Daily Full & Parcel Service for Indore & Ujjain 1960-06-21 (493) 25-09-06 \n",
            "SHRI KANTIBHAI M. JANI  J. K. Transport Co. Nr. Gujarat Jinning Mill, Prem Darwaja Road, Ahmedabad-380018  jktransportco@yahoo.co.in  79-22133177 Fleet Owners? & Transport Contractor Ahmedabad to South Gujarat 1951-05-12 (591) 29-12-06 \n",
            "SHRI SHYAMRAO B. PATIL  Patil Transport Co. 16, Bhumi Estate, Nr. Aslali Police Station, Aslali, Ahmedabad-382427.  patiltransport3015@gmail.com  2718-262618       \n",
            "SHRI SATISHBHAI B. MODI  Patel Road Transport Co. (Unjhavala) Out of Kankaria Railway Yard, Nr. Kalkatta Ahmedabad Carrier, Kankaria, Ahmedabad-380022.  patel.satishmodi@gmail.com  79-25451716 Ahmedabad to All Saurashtra & Kutchh 1963-06-01 (151) 12-10-08 \n",
            "SHRI CHANDRESHBHAI V. LODAYA  C/o. C Narsinh Roadlines 96, Hirabhai Market, Diwan Ballubhai Road, Ahmedabad.  cnarshi@gmail.com  79-25465915 Daily Service : Sholapur, Urlikanchan, Ichalkaranji, Secunderabad, Hyderabad, Hubli, Banglore. 1979-03-28 384 (10-09-15) \n",
            "SHRI MUKESHBHAI M. LALKA  Khushal Roadways 23, Ushadeep Co.Op.Soc., Radha Kishan Road, Panjra Pole, Ambavadi, Gulbai Tekra, Ahmedabad-380015.  khushal.roadways@gmail.com  79-25732025 Ahmedabad to All Over India Full Truck Load 1963-07-24 (320) 05-10-09 \n",
            "SHRI V. KONDUSAMY (SANTOSH)  Shri Ram Transport Co. Opp. APMC Market Yard, Jetalpur, Ahmedabad-382426.  Sriramtransportco@yahoo.com  2718-233515       \n",
            "SHRI DAMODARBHAI S. PILLAI  Shiva Transport Company Opp. Gheewala Petrolpump, Nr. Nilkanth park, Bareja, Ta. Dascroi, Dist. Ahmedabad.  gujaratsilsa@gmail.com  2718-233197, 2718-233198 Ahmedabad to South India Full Truck Load 1965-05-30 (354) 21-12-09 \n",
            "SHRI AMITKUMAR HIMMATLAL GHELANI  C/o. Satkar Transport Co. 1, Shivshakti Estate, Opp. New Ujala Hotel, Sarkhej Bavla Road, Sarkhej, Ahmedabad-382210.  satkartransport@gmail.com  79-26890521, 79-26890005 Ahmedabad to All Over Saurashtra-Full Truck Load 1970-09-19 (356) 21-12-09 \n",
            "SHRI SATYANARAYANBHAI GUPTA  Pawan Roadway Pvt. Ltd. 7-8, Dharmalok Apartment, Opp. Municipal School, Dhor Bazar Char Rasta, Kankaria, Ahmedabad.  info@suryaroadways.com  79-25324931, 79-25466968 Ahmedabad to Delhi Full/Part Truck Load 1937-03-01 (357) 21-12-09 \n",
            "SHRI ASHOKKUMAR S. AGRAWAL  Surya Roadways City Mill Compound, Outside of Raipur Gate, Ahmedabad-380022.  info@suryaroadways.com  79-25466968 Ahmedabad to Delhi Full/Part Truck Load 1958-06-02 (358) 21-12-09 \n",
            "SHRI K. R. MAHENDRAN  M. M. Transport B/s. Gheewala Petrolpump Opp. Nilkanthpark Soc., N.H.No. 8, Bareja, Ahmedabad-382425.  Manoj.chauhan4777@gmail.com  2718-261980, 2718-320077 Ahmedabad to South India & Karnataka-Full Truck Load 1968-08-09 (362) 22-12-09 \n",
            "SHRI N. MURUGAN GOUNDER  King Roadways Opp. Old Asalali Naka, Opp. Wadia Body Builders, Asalali, Ahmedabad-382425.  iyerraghu18@yahoo.in  2718-261980, 2718-261982 Ahmedabad to Tamilnadu, Kerala, Banglore Full Truck Load 1976-10-15 (364) 22-12-09 \n",
            "SHRI SAKTHI A. GAUNDER  Sakthi Roadlines Opp. Cargo Motors, Dhanraj Body Builder Compound, Jetalpur, Ahmedabad.  shakthiroadlines3344@gmail.com  2718-233233, 2718-282825 Ahmedabad to Tamilnadu, Karnataka, Kerala, Pondicherry Full Truck Load 1965-07-19 (365) 22-12-09 \n",
            "SHRI JITUBHAI H. SANGHAVI  Ambica Transport Service 35, Shiv Shakti Estate, N.H.No. 8, Narol, Ahmedabad-380405.  ambicatransportservice@gmail.com  79-29706307, 79-25735381 Ahmedabad to Maharashtra Full/Part Truck Load 1958-10-21 (451) 31-12-09 \n",
            "SHRI MADANBHAI R. CHOPRA  Chopra Logistics 27-28, Swastic Centre, B/s. Gokulesh Petrolpump, Narol, Ahmedabad-380405.  chopragroup@gmail.com  79-25711828, 79-25730850 Ahmedabad to All Over India Full/Part Truck Load 1969-11-15 (453) 31-12-09 \n",
            "SHRI HEMANTKUMAR J. SHAH  Pratik Roadlines D-1, Tarun Nagar, Vibhag-3, Subhash Chauk,  Memnagar Gam, Ahmedabad-380052.  shs1129@gmail.com  79-27489925 Ahmedabad to All Over Gujarat Full Truck Load 1957-07-17 (398) 30-12-09 \n",
            "SHRI SANDEEPSINGH K. DHANOTE  Kachchh Highway Transport Co. Outside Premdarwaja, Opp. Singh Motor Training School, B/h. Ambica Transport, Premdarwaja, Ahmedabad-380001  kutchhighway@yahoo.co.in  79-22136207, 79-22173844 Ahmedabad, Rajkot, Jamnagar, & Morbi to all over Kachchh 1982-01-11 846 (19-03-12) \n",
            "SHRI RAJENDRASINH M. VAGHELA  C/o, Sanjay Goods Carriers 37-38, Darbar Nagar, Amaraivadi, Ahmedabad.  rvaghela1972@gmail.com         \n",
            "SHRI RAKESHBHAI K. SURYAVANSHI  C/o, Naranji Peraj Transport Co. Lodha Chambers, Opp. Dariyapur Gate. Ahmedabad-380004.  ahd.devlogistic@gmail.com  79-22123773 Transport Contractor and Comm. Agent-Full/Part Truck Load All over Gujarat-Mumbai 1971-06-06 952 (05-09-12) \n",
            "SHRI ANAND RAJA RUDACH  C/o. Maruti Transport Service 203/C, Primet, Opp. Mother Milk Palace, Nr. Jajish Bunglow Char Rasta, Bodakdev, Ahmedabad-380054.  marutitrans.service@gmail.com  79-40031233       \n",
            "SHRI MENANDBHAI B. ODEDARA  C/o. Shri Ram Transport Corporation D/279, Second Floor, Sabo Centre, South Bopal, Ahmedabad-380058  srtc@shreeramtransport.in, shreeramtransport95@gmail.com  2717-411122 Ahmedabad to All over Gujarat Transport Contractor and Comm. Agent-Full Truck Load 1980-07-05 982 (01-10-12) \n",
            "SHRI MAHENDRABHAI D. KHONA  101, Pray Apartment, 36, Mahalakshmi society, Off. Unnati School, Paldi, Ahmedabad-380007   mdkhona555@yahoo.co.in         \n",
            "SHRI YASHVANTBHAI G. UPADHYAY  Hema Roadlines 4, Bharat Estate, B/s. H. H. Transport Street, Ujala Chokdi, Street of Patel Transport, Sarkhej, Ahmedabad.  Upadhyayyashantkumar@gmai.com         \n",
            "SHRI RAJIVBHAI R. PARIKH  C/o.  Parikh Transport Co. Opp. Transport Nagar, N.H. 8, Narol, Ahmedabad-382405  parikh_transport@yahoo.in  79-25711922 Ahmedabad to Mumbai Full Truck Load 1962-12-23 747 (07-06-19) 803 (10-10-19) \n",
            "SHRI BHARATBHAI H. PARIKH  C/o.  Parikh Transport Co. Opp. Transport Nagar, N.H. 8, Narol, Ahmedabad-382405  shreegokulesh@yahoo.co.in  79-25711922 Ahmedabad to Mumbai Full Truck Load 1949-01-26 746 (07-06-19) 802 (10-10-19) \n",
            "SHRI GULABBHAI DHANJIBHAI JAIN  C/o. Pritesh Roadlines 143/1, Kalupur Kabutarkhana, Ahmedabad-380002  pritesh2585@gmail.com  79-22122242, 79-22122794 Ahmedabad to Maharashtra- Mumbai-Full Truck Load 1952-04-19 755 (19-06-19) 809 (22-10-19) \n",
            "SHRI TAPANBHAI R. SHARMA  Prop. Raj Carrying Corporation Sahajanand Estate, O/s. Raipur Gate, Ahmedabad-380008.  rajcarrying@yahoo.com  79-25461263 Ahmedabad to All over Gujarat Part Truck Load 1966-03-10 762 (25-06-19) 816 (04-12-19) \n",
            "SHRI ISHWARCHANDER R. GOEL  Punjab Transport Corporation 803-804, Vanijya Bhavan, Opp. D.B. School, Kankaria Road, Ahmedabad - 380022  goelvarun2@rediffmail.com  79-25453161 Gujarat To M.P. Full Truck Load 1952-03-25 817 (04-12-19) \n",
            "SHRI NIMISHBHAI J. PATEL  C/o. Deep Roadlines 33, Shiv Shakti Estate, B/h. Prince Hotel, Narol, Ahmedabad - 382405.  deeproadlines@hotmail.com  79-22123508 Ahmedabad to Mumbai, Puna Full Truck Load 1965-09-06 818 (11-12-19) \n",
            "SHRI HARISH VISHNUPRASAD PURANI  Capital Roadlines 37, Binori Bunglows, Nr. Homiyopethic College, Bopal-Ghuma Road, Ghuma, Ahmedabad.  capitalroadlines62@gmail.com         \n",
            "SHRI NAVNEETBHAI K. JOSHI  Door to Door Transport Co. 902, Pir Housing Society, Opp. Mother Dairy, Dist. Gandhingar, Ahmedabad.  vksharmabc@yahoo.com         \n",
            "SHRI NANDLAL K. THAPAR  C/o. Thapar Transport Co. 63/1, Sindhi Commercial Market, Chokha Bazar, Kalupur, Ahmedabad-380002.  thapartransport@gmail.com  79-22125214 Ahmedabad to Mumbai Full Truck Load 1949-01-05 765 (01-07-19) 832 (20-01-20) \n",
            "SHRI RAMESHBHAI G. VASANT  C/o. Vasant Transport Corporation 501, Trinity Complex, 100\" Thaltej-Hebatpur Road, Thaltej, Ahmedabad-380059.  truckersabhiyaan@gmail.com  79-22123737, 79-22123636 Ahmedabad to All Over Sarashtra Full/Part Truck Load 1935-07-16 6 \n",
            "SHRI HITENBHAI R. VASANT  C/o. Vasant Transport Corporation 501, Trinity Complex, 100\" Thaltej-Hebatpur Road, Thaltej, Ahmedabad-380059.  hiten.vasant@vasantgroup.in  79-22123737, 79-22123636 Ahmedabad to All Over Sarashtra Full/Part Truck Load 1962-07-04 6 \n",
            "SHRI VINODKUMAR M. VASANT  C/o. Vasant Logistics Shed No. 5, Transport Nagar, Narol, Ahmedabad-382405.  vm.vasant@gmail.com  79-25731939, 79-22123418 Ahmedabad to All Over Gujarat-Full Truck Load 1961-08-04 3 \n",
            "SHRI MAYURBHAI O. SHARMA  Surya Roadlines, Surya House Opp. City Compound, Kankaria Road, Ahmedabad-380022  surya.roadlines@yahoo.com  79-25471818 Ahmedabad to All Over Gujarat Full/Part Truck Load 1981-12-17  (875) 21-07-2020 \n",
            "SHRI SHOBHAGMAL  C. KATARIA  C/o. Kataria Transport Maruti Show Room, Kataria Automobiles Ltd. O/s. Dariyapur Darwaja, Ahmedabad-380016.  info@kataria.co.in  79-22175300 Ahmedabad to All over India Full/Part Truck Load 1932-12-25 09 \n",
            "SHRI HIRALALJI GUPTA  C/o. Niraj Cargo Movers 38, Hirabhai Market, Kankaria Road, Kankaria Road, Ahmedabad-380022.  niraj_1996@ymail.com  79-25461210 Ahmedabad to Delhi, Hariyana, Punjab Full Truck Load 1949-07-15  \n",
            "SHRI MANISHKUMAR PURANMAL AGRAWAL  C/o. Ganesh Transport Co. Opp. H.D.F.C. Bank, Beside Gangamaiya soc., Mehsana Highway, Mehsana-384002  info@suryaroadways.com  2742-259215 Mehsana to North India, Maharashtra, (Except South) Full Truck Load 1983-11-01 (428) 26-08-2006 \n",
            "SHRI PRAKASHSINH P. CHAVDA  Jaysomnath Transport Company 1, Gokul Shopping Centre, Malgodown, Arban Bank Road, Opp. Sardar Patel Vyapar Sankul, Mehsana-384002  jstco1972@gmail.com  2762-250155 Mehsana to South Gujarat Full Truck Load 1972-07-15 (919) 01-05-08 \n",
            "SHRI PUNJIRAMBHAI J. PATEL  Jayganesh Transport Service Modhera Chokdi, Off. Rajkamal PetrolPump, Mehsana-384002  punjirambhaipatel@gmail.com  2762-251883 Mehsana to All over Saurashtra (Except Bhavnagar & Porbandar) Rajkot, Surendranagar, Morbi, Dhangadra, Halvad & Junagadh Full/Part Truck Load 1953-01-20 (920) 01-05-08 \n",
            "SHRI KANUBHAI R. AGRAWAL  C/o.  Vinayak Road Carriers 7,  Ambica Corporation, Ganj Road, Palanpur - 385001  dlmpl_pln@yahoo.co.in, kanubhaiagrawal@yahoo.co.in  2742-253178 Ahmedabad to Mehsana Full Truck Load 1955-08-10 (736) 13-08-1997 \n",
            "SHRI JAYESHBHAI K. AGRAWAL  Durga Transport Company 8, Nilkanth Society, Opp. Hanuman Tekari, Angola Road, Palanpur-385001.  kanubhaiagrawal@yahoo.co.in  2742-254930 Palanpur to All Over Gujarat,Rajasthan-Full Truck Load 1988-08-05 (440) 30-12-2009 \n",
            "SHRI PRAHALADRAI R. AGRAWAL  C/o. Durga Transport Co. 14, Agrasen Society, Mansarovar Road, Palanpur-385001  kanubhaiagrawal@yahoo.co.in  2742-257278 Ahmedabad to Mehsana Full Truck Load 1962-05-10 (734) 09-10-2003 \n",
            "SHRI KRUNALBHAI KANUBHAI AGRAWAL  Sidhdhi Vinayak Co. Vrajbhumi Society, Opp. Kuvarba School, Keri Road, Palanpur-385001.  kanubhaiagrawal@yahoo.co.in  2742-253578 Ahmedabad to Mehsana Full Truck Load 1987-10-14 (337) 27-11-09 \n",
            "SHRI IBRAHIMBHAI ABDULKARIM JAMADAR  New Jamadar Trans. Pvt. Ltd. 1A/03, First Floor, P. B. Super Market, College Road, Modasa-383315.  jamadartr@yahoo.in  2774-249992 Service for Full load Truck All over Gujarat, Rajasthan, Haryana, Maharashtra, Delhi by Own Fleet of Trucks. 1963-05-01 (173) 23-02-09 \n",
            "SHRI GHANSHYAMBHAI G. PATEL  Shivkrupa Transport Gungali Talav, Patan-384265  Shivkrupatrans84@gmail.com  2766-222784 Ahmedabad-Patan-Unjha Part Truck Load 1967-03-22 (772) 02-01-2005 \n",
            "SHRI PURANMAL RAMSWAROOP AGRAWAL  Manan Handling Agency Post. Virampur ? 385012 Ta. - Amirgadh, Dist. ? Banaskantha  kanubhaiagrawal@yahoo.co.in  2742-255285 Ahmedabad to Mehsana Full Truck Load 1958-06-01 (431) 26-08-2006 \n",
            "SHRI LAKSHMICHAND NARANDAS MALI  Shri Delhi Rajasthan Trans. Co. Palanpur Road, Nr. New Market Yard, Disa-385535.  drtdeesa@yahoo.co.in  2744-220196 Mehsana to Morbi, Jamnagar & All Rajasthan Full Truck load 1967-09-22 (344) 10-12-09 \n",
            "SHRI KAUTILYAKUMAR V. PUROHIT  Ganesh Transport Gandhi Chok, Po. Deesa, Dist. : Banaskantha, Palanpur-385535.  kautilyapurohit1122@gmail.com  2744-220593 Ahmedabad-Banaskantha-Rajasthan-Part Truck Load 1970-11-17 599 (07-01-11) \n",
            "SHRI MUKESHKUMAR KASHIRAM SHARMA  C/o. UP Gujarat Roadways Neelkanth Estate, Vishnagar  Road,  Unjha (N.G.)-384170  shubham6573@yahoo.com  2775-252473, 2775-256473 Unjha to Ahmedabad, Kanpur, Lucknow, Gorakhpur, Nepal Full Truck Load 1965-04-05 731 (28-09-11) \n",
            "SHRI BABULAL HAJARILAL BISHNOI  C/o. Unjha RAipur Transport Co. Nr. Natraj Factory, National Highway, UNJHA_(N.G.)  bobby.bishnoi2008@yahoo.com  2775-254414, 2775-254440 Unjha to Chattisgadh, Orissa Full/Part Truck Load 1978-11-14 732 (28-09-11) \n",
            "SHRI LALITBHAI R. PATEL  Gajanand Transport 13, Pavan Plaza, Ramosana Railway Crossing, Dudhsagar Dairy Road, Mehsana-384002.  gajanand_111@yahoo.com  2762-256719 Mehsana to All over India Full Truck Load 1977-11-24 247 (22-09-14) \n",
            "SHRI SAMKITBHAI MAFATLAL VARIYA  Diamond Transport Corporation Variya Chambers,  New Deesa ? 385535  diamondtransportcorporation@gmail.com  2744-220245 Deesa to Tharad, All Over Gujarat, Maharashtra, All over India-Full Truck Load 1987-02-01 (357) 09-06-2015 \n",
            "SHRI NATVARBHAI P. PATEL  C/o. Umiya Roadlines 8-B, Sarvoday Complex, Opp. Sardar Vyapar School, Mal Godown Road, Mehsana-384002  umiyajiroadlines@gmail.com  02762-240639 Mehsana to South Gujarat Full Truck Load 1964-06-01 (449) 24-09-16 \n",
            "SHRI DILIPSINH P. RAOL  Jyoti Transport Company Prince Raj Nagalpur Highway Road, Dist. - Mehsana - 384002  dilipsinhraol.jyoti@gmail.com  2762-250271, 2762-259738 Mehsana to Ahmedabad Part Truck Load 1969-04-26 (572) 09-08-2003 \n",
            "SHRI HAJI DAUDBHAI SADIKBHAI SUTHAR  New Sagar Roadlines Transport Nagar Society, College Road, Modasa, Dist. : Sabarkantha.   2774-249383 Modasa to Local, Delhi, Mumbai Full Truck Load 1950-06-05 4 \n",
            "SHRI KUMAR S. AIYAR  S. Kumar Roadlines Sainath Complex, Nr. Darshan Hotel, N.H.No.8, Po. Umbhel, Ta. Kamrej, Dist. Surat-394325.  skumar7829@gmail.com  2622-272652 Surat to Tamilnadu, Kerala, Pondicherry, Karnataka Full Truck Load 1961-05-11 (363) 22-12-09 \n",
            "SHRI RAMESHKUMAR R. AGRAWAL  C/o. Vinayak Roadlines 524, Jash Market Ring Road, Surat.  ramesh@vrcindia.in  261-2327759 Surat to Gujarat, Maharashtra & North India-Full Truck Load 1972-11-24 (733) 04-10-2003 \n",
            "SHRI SANJAYBHAI S. CHAUDHARY  Aman Transport Co. Raghuvir Compound, Opp. Hanuman Temple, Vaghodiya Bypass Road, N.H.No. 8, Baroda.  san_jay_24@yahoo.co.in  265-6530598, 265-6530599 Baroda to All over India Full Truck Load 1972-09-24 (361) 22-12-09 \n",
            "SHRI THIRUMALAISAMY K. CHETTIER  Shri Shakti Transport Co. Nr. B.J.Service, Tarsali Bypass Road, N.H.No. 8, Baroda-390009.  shree.sakthi40@yahoo.com  265-3200418, 265-2970634 Baroda to Tamilnadu, Karnataka, Kerala, Andrapradesh Full Truck Load 1963-04-09 (360) 22-12-09 \n",
            "SHRI HIMMATDAN HAMIRJI GADHAVI  Shrinath Carriers H -37, Jain Colony Opp.Momai Mata?s Temple New Anjar (Kutch) 370110  v_m_roadlines@yahoo.com  2836-230752 Kutch to All Over Gujarat-Full Truck Load For Tanker : Kutch to All Over India 1955-05-17 (95) 28-6-2005 \n",
            "SHRI SATISHBHAI P. THAKKAR  S.Kumar Transport 3, Hira Panna Complex, Station Road, Bhuj (Kutch) - 370001.  gautam_trans@yahoo.co.in  2832-245667 Bhuj to All Over Gujarat Full Truck Load 1956-12-08 (113) 28-06-2005 \n",
            "SHRI KUNVARGAR UMEDGAR GOSWAMI (GUSAI)  M.K.Transport Memon Musafirkhana, Shop No. 9,Bhuj (Kutch)-370001.  manojkgoswami.15@gmail.com         \n",
            "SHRI VASANTKUMAR M. THAKKAR  V.M. Roadlines Shop No.G-5/6, Anam Commercial Centre, Plot No. 37, Nr. Swaminarayan Temple, Ward No. 9, Gandhidham - 370201.  v_m_roadlines@yahoo.com  2836-250973 Gandhidham to Uttarakhand, Punjab, Uttaranchal, Himachal Full Tanker Load 1953-10-26 (119) 28-06-2005 \n",
            "SHRI HIRALAL JAYSHANKAR JOSHI  RAVRAY Handling Office No. 4& 5, Mani Complex, Plot No. 84, Sector 8, Gandhidham ? 370201  jramesh38@yahoo.com  2836-222299 Gandhidham to Kutch & Banaskantha-Full Truck Load 1956-03-17 (99) 28-06-2005 \n",
            "SHRI HIRENBHAI HARISHBHAI SACHDE  P. M. Logistics Shop No. 8, Ground Floor, Anam Commercial Centre, Plot No. 37, Ward No. 12, Gandhidham - 370201.  v_m_roadlines@yahoo.com  2836-232720 Gandhidham to U.P., Haryana, Punjab-Full Truck Load 1974-09-12 (100) 28-06-2005 \n",
            "SHRI HARISHBHAI J. MAHESHWARI  Jay Ambe Bulk Carriers Plot No. 47, A.B.K. Chamber, Sector- 9/c, Opp. S.T.Bus Stand, Gandhidham ? 370201  jaiambecarriers@gmail.com  2836-221217 Gandhidham to All over India Full Load 1965-02-14 (479) 25-09-2006 \n",
            "DR. NAVGHANBHAI VASANBHAI AHIR  Krishna Road Lines 6, Rashmi Apt., Opp. Akashvani, B/s. Jubilee Ground, Dist. Bhuj-370001.  Ahir_88@yahoo.com  2836-221499 Ratnal to All over Gujarat Full Truck Load 1984-02-01 (530) 17-10-2006 \n",
            "SHRI DINESHBHAI SHIVJIBHAI HIRANI  Mankuwa Truck Malik Mandli Bavalvadi Area, Navavas, Mankuwa (Kutch)   2832-275373 Mankuwa to All Over Gujarat Full Truck Load 1965-06-01 (336) 25-11-09 \n",
            "SHRI RAJESHBHAI P. HIRANI  Nishant Auto Advisor A/69, Fakira Complex, B/s. RTO Office, Dist. Bhuj (Kutch)-370675.          \n",
            "SHRI PRAKASHBHAI J. RAJGOR  Maiyaji Krupa Truck Malik Group Village : Manjal, Ta. Nakhtrana, Dist. Bhuj-Kutch-370675.          \n",
            "SHRI HARIBHAI K. LIMBANI  J.H.B. Roadlines Devpar (Yax) Truck Malik Mandli B/S. Bus Stand, Village : Devpar (Yax), Ta. Nakhatrana, Dist. : Kutch-370675.          \n",
            "SHRI RAJESHBHAI MAMUBHAI AAYAR  Shri Aaval Roadlines Mu. Shop 7, Opp. Prince Hotel, Station Road, Bhuj.  rajahir51@yahoo.com  2832-226133, 2832-283899 Bhuj to South and North Gujarat, Rajasthan Full Truck Load 1980-01-16 655 (25-04-18) \n",
            "SHRI AMRUTLAL NARANBHAI DHOLU  Ambica Transport Opp.Ashapura Temple, Trimurti Market, Nakhatrana (Kutch)-370615  meeraboxes99@yahoo.in  2835-222210 Nakhatrana to All over Gujarat Full Truck Load 1963-10-08 (93) 28-06-2005 \n",
            "SHRI BHARATBHAI MANUBHAI CHAVDA  C/o. M. Patel Logistics 31, Tanker Association Building, Opp. Gokul Hotel, N.H.No. 8, Gandhidham-370201.  bharat@mpatellogistics.com         \n",
            "SHRI MANUBHAI R. CHAVDA  C/o. M. Patel Logistics 31, Tanker Association Building, Opp. Gokul Hotel, N.H.No. 8, Gandhidham-370201.  info@mpatellogistics.com         \n",
            "SHRI SURESHBHAI P. AHIR  Shree S. P. Roadways Office No. 63, Transport Nagar, Nr. GIDC, Bhuj-Bhachau By pass Road, Anjar-370110, Kutch.          \n",
            "SHRI MITULBHAI B. GADHVI  Anjani Roadlines Serve No. 60, PAIKE, Village Shamkhyali, Nr. Navjivan Hotel, Ta. Bhachau, Dist. : Kutch-370150.  anjaniroadlinesh@yahoo.com  2836-238046 Truck and Trailor Owners and Transport Contractors 1977-02-20 868 (20-03-20) \n",
            "SHRI MOHINDRAKUMAR R.JUNEJA  New Hariyana Roadlines 26, Radhey Complex, Nr. Radhey Way Bridge, N. Highway, Ta. Gandhidham-370201, Dist. : Kutch.  junejamohinder@yahoo.com  2836-231228 Gandhidham to All over Kutch Full Truck Load 1954-06-11 3 \n",
            "SHRI RADHUBHAI A. CHAIYA  Jigar Roadlines 20, Tolani Chambers, Plot no. 2, Sector-8, Gandhidham Kutch-370201.  jigar.roadlines@yahoo.in  2876-234281 Suppliers of M.S.Tanker, S.S.Tanker & Covering Tanker for Chemical Full Loading-All Over India 1964-12-26  \n",
            "SHRI VALJIBHAI B. KESARIYA  Harish Roadways 7, Paras Complex, Vashila Zeroxvali Gali, Madhapar Highway, Bhuj.  jinamauto@gmail.com         \n",
            "SHRI HARDIKBHAI H. THAKKAR  Shubh Roadways Office No. 11, Yadunandan Arcade, B/s. Shri Ram Way Bridge, Madhapar Highway, Bhuj.  shubhroadways2017@gmail.com         \n",
            "SHRI PRAKASHBHAI S. KOFIYAR  Lion Transport Amit Complex, New Station Road, B/s. Ravi Cinema, Bhuj.  liontransport65@gmail.com         \n"
          ],
          "name": "stdout"
        }
      ]
    },
    {
      "cell_type": "code",
      "metadata": {
        "id": "72wXoTnA4zo8"
      },
      "source": [
        ""
      ],
      "execution_count": null,
      "outputs": []
    }
  ]
}