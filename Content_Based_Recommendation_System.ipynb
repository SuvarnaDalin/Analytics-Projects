{
  "nbformat": 4,
  "nbformat_minor": 0,
  "metadata": {
    "colab": {
      "name": "Content Based Recommendation System.ipynb",
      "provenance": [],
      "collapsed_sections": [],
      "authorship_tag": "ABX9TyOd84Y+FNypQacDzLSnihlf",
      "include_colab_link": true
    },
    "kernelspec": {
      "name": "python3",
      "display_name": "Python 3"
    }
  },
  "cells": [
    {
      "cell_type": "markdown",
      "metadata": {
        "id": "view-in-github",
        "colab_type": "text"
      },
      "source": [
        "<a href=\"https://colab.research.google.com/github/SuvarnaDalin/Analytics-Projects/blob/master/Content_Based_Recommendation_System.ipynb\" target=\"_parent\"><img src=\"https://colab.research.google.com/assets/colab-badge.svg\" alt=\"Open In Colab\"/></a>"
      ]
    },
    {
      "cell_type": "code",
      "metadata": {
        "id": "_9hWWeiiJvub",
        "colab_type": "code",
        "colab": {}
      },
      "source": [
        "import pandas as pd"
      ],
      "execution_count": null,
      "outputs": []
    },
    {
      "cell_type": "code",
      "metadata": {
        "id": "q0J58CfOcFCe",
        "colab_type": "code",
        "colab": {
          "base_uri": "https://localhost:8080/",
          "height": 127
        },
        "outputId": "74b9a3bb-d3f5-41c6-8a78-136806c45575"
      },
      "source": [
        "!git clone https://github.com/SuvarnaDalin/Data-for-Analysis.git"
      ],
      "execution_count": null,
      "outputs": [
        {
          "output_type": "stream",
          "text": [
            "Cloning into 'Data-for-Analysis'...\n",
            "remote: Enumerating objects: 18, done.\u001b[K\n",
            "remote: Counting objects: 100% (18/18), done.\u001b[K\n",
            "remote: Compressing objects: 100% (17/17), done.\u001b[K\n",
            "remote: Total 18 (delta 2), reused 0 (delta 0), pack-reused 0\u001b[K\n",
            "Unpacking objects: 100% (18/18), done.\n"
          ],
          "name": "stdout"
        }
      ]
    },
    {
      "cell_type": "code",
      "metadata": {
        "id": "AYdVefgHcgm2",
        "colab_type": "code",
        "colab": {}
      },
      "source": [
        "!cd Data-for-Analysis/"
      ],
      "execution_count": null,
      "outputs": []
    },
    {
      "cell_type": "code",
      "metadata": {
        "id": "XbLqBTl7dxEF",
        "colab_type": "code",
        "colab": {
          "base_uri": "https://localhost:8080/",
          "height": 35
        },
        "outputId": "0b939a5c-eb15-4bf5-fa50-c17dc878a691"
      },
      "source": [
        "!ls Data-for-Analysis/"
      ],
      "execution_count": null,
      "outputs": [
        {
          "output_type": "stream",
          "text": [
            "Iris.csv  posts.csv  README.md\tSampleSuperstore.csv  users.csv  views.csv\n"
          ],
          "name": "stdout"
        }
      ]
    },
    {
      "cell_type": "code",
      "metadata": {
        "id": "wlLs6T0wSabs",
        "colab_type": "code",
        "colab": {}
      },
      "source": [
        "posts_data = pd.read_csv('Data-for-Analysis/posts.csv')\n",
        "users_data = pd.read_csv('Data-for-Analysis/users.csv')\n",
        "views_data = pd.read_csv('Data-for-Analysis/views.csv')"
      ],
      "execution_count": null,
      "outputs": []
    },
    {
      "cell_type": "markdown",
      "metadata": {
        "id": "lVRhTsbY2tMu",
        "colab_type": "text"
      },
      "source": [
        "Recommendation System, based on:\n",
        "# 1. Content Based Filtering"
      ]
    },
    {
      "cell_type": "code",
      "metadata": {
        "id": "eWZWKfpa35KI",
        "colab_type": "code",
        "colab": {
          "base_uri": "https://localhost:8080/",
          "height": 109
        },
        "outputId": "703de6d0-d863-4925-d7a4-dc792ffc7f6a"
      },
      "source": [
        "posts_data.isnull().sum()"
      ],
      "execution_count": null,
      "outputs": [
        {
          "output_type": "execute_result",
          "data": {
            "text/plain": [
              "_id            0\n",
              "title          0\n",
              "category      28\n",
              " post_type     0\n",
              "dtype: int64"
            ]
          },
          "metadata": {
            "tags": []
          },
          "execution_count": 27
        }
      ]
    },
    {
      "cell_type": "code",
      "metadata": {
        "id": "r9x5z2wn3iOL",
        "colab_type": "code",
        "colab": {}
      },
      "source": [
        "posts_copy = posts_data\n",
        "posts_copy = posts_copy.fillna(posts_copy['category'].value_counts().index[0])"
      ],
      "execution_count": null,
      "outputs": []
    },
    {
      "cell_type": "code",
      "metadata": {
        "id": "8qHA-9Xj3x77",
        "colab_type": "code",
        "colab": {
          "base_uri": "https://localhost:8080/",
          "height": 109
        },
        "outputId": "725cccbc-8e9d-4a3e-bead-5e01921f6de8"
      },
      "source": [
        "posts_copy.isnull().sum()"
      ],
      "execution_count": null,
      "outputs": [
        {
          "output_type": "execute_result",
          "data": {
            "text/plain": [
              "_id           0\n",
              "title         0\n",
              "category      0\n",
              " post_type    0\n",
              "dtype: int64"
            ]
          },
          "metadata": {
            "tags": []
          },
          "execution_count": 29
        }
      ]
    },
    {
      "cell_type": "code",
      "metadata": {
        "id": "1txhlFQD3_A5",
        "colab_type": "code",
        "colab": {}
      },
      "source": [
        "# Training the data - TFID method\n",
        "\n",
        "from sklearn.feature_extraction.text import TfidfVectorizer\n",
        "from sklearn.metrics.pairwise import linear_kernel\n",
        "\n",
        "tf = TfidfVectorizer(analyzer='word', ngram_range=(1, 3), min_df=0, stop_words='english')\n",
        "tfidf_matrix = tf.fit_transform(posts_copy['category'])\n",
        "\n",
        "cosine_similarities = linear_kernel(tfidf_matrix, tfidf_matrix)\n",
        "\n",
        "results = {}\n",
        "\n",
        "for idx, row in posts_copy.iterrows():\n",
        "    similar_indices = cosine_similarities[idx].argsort()[:-100:-1]\n",
        "    similar_items = [(cosine_similarities[idx][i], posts_copy['_id'][i]) for i in similar_indices]\n",
        "    results[row['_id']] = similar_items[1:]"
      ],
      "execution_count": null,
      "outputs": []
    },
    {
      "cell_type": "code",
      "metadata": {
        "id": "CxWOn-MN5ApF",
        "colab_type": "code",
        "colab": {}
      },
      "source": [
        "# Making Predictions\n",
        "\n",
        "def item(id):\n",
        "    return posts_copy.loc[posts_copy['_id'] == id]['title'].tolist()[0].split(' - ')[0]\n",
        "\n",
        "def recommend(user_id, num):\n",
        "    print(\"Recommending \" + str(num) + \" products for the user \" + user_id + \"...\")\n",
        "    print(\"-------\")\n",
        "    recs = results[user_id][:num]\n",
        "    for rec in recs:\n",
        "        print(\"Recommended: \" + item(rec[1]) + \" (score:\" + str(rec[0]) + \")\")"
      ],
      "execution_count": null,
      "outputs": []
    },
    {
      "cell_type": "markdown",
      "metadata": {
        "id": "LPmGNhXj5cpl",
        "colab_type": "text"
      },
      "source": [
        "### Result: Recommend posts for the given user"
      ]
    },
    {
      "cell_type": "code",
      "metadata": {
        "id": "73kjlC9K5cJE",
        "colab_type": "code",
        "colab": {
          "base_uri": "https://localhost:8080/",
          "height": 55
        },
        "outputId": "ab14f50b-1b85-4799-87e2-2891005b9a12"
      },
      "source": [
        "# Give any item_id from the given snippet to check the results and number of recommendations between 1-99\n",
        "\"\"\"\"\"\"\"\"\"\"\"\"\"\"\"\"\"\"\"\"\"\"\"\"\"\"\"\"\"\"\"\"\"\"\"\"\"\"\"\"\"\"\"\"\"\"\"\"\"\"\"\"\"\"\"\"\"\"\"\"\"\"\"\"\"\"\"\"\"\"\"\"\"\"\"\"\"\"\"\"\"\"\"\"\"\"\"\"\"\"\"\"\"\"\"\"\"\"\"\"\"\"\"\"\"\"\"\"\"\"\"\"\"\"\"\"\"\"\"\"\"\"\"\"\"\n",
        "              _id \t              title    \t                        category \t                                  post_type\n",
        "0 \t5d62abaa65218653a132c956 \thello there \t                  Plant Biotechnology \t                              blog\n",
        "1 \t5d6d39567fa40e1417a4931c \tMl and AI \t                    Artificial Intelligence|Machine Learning|Infor... \tblog\n",
        "2 \t5d7d23315720533e15c3b1ee \tWhat is an Operating System ? \tOperating Systems \t                                blog\n",
        "3 \t5d7d405e5720533e15c3b1f3 \tLord Shiva \t                    Drawings \t                                          artwork\n",
        "4 \t5d80dfbc6c53455f896e600e \tHow Competition law evolved? \t  Competition Laws \t                                  blog\n",
        "\n",
        "\"\"\"\"\"\"\"\"\"\"\"\"\"\"\"\"\"\"\"\"\"\"\"\"\"\"\"\"\"\"\"\"\"\"\"\"\"\"\"\"\"\"\"\"\"\"\"\"\"\"\"\"\"\"\"\"\"\"\"\"\"\"\"\"\"\"\"\"\"\"\"\"\"\"\"\"\"\"\"\"\"\"\"\"\"\"\"\"\"\"\"\"\"\"\"\"\"\"\"\"\"\"\"\"\"\"\"\"\"\"\"\"\"\"\"\"\"\"\"\"\"\"\"\n"
      ],
      "execution_count": null,
      "outputs": [
        {
          "output_type": "execute_result",
          "data": {
            "text/plain": [
              "'\"\"\\n              _id \\t              title    \\t                        category \\t                                  post_type\\n0 \\t5d62abaa65218653a132c956 \\thello there \\t                  Plant Biotechnology \\t                              blog\\n1 \\t5d6d39567fa40e1417a4931c \\tMl and AI \\t                    Artificial Intelligence|Machine Learning|Infor... \\tblog\\n2 \\t5d7d23315720533e15c3b1ee \\tWhat is an Operating System ? \\tOperating Systems \\t                                blog\\n3 \\t5d7d405e5720533e15c3b1f3 \\tLord Shiva \\t                    Drawings \\t                                          artwork\\n4 \\t5d80dfbc6c53455f896e600e \\tHow Competition law evolved? \\t  Competition Laws \\t                                  blog\\n\\n'"
            ]
          },
          "metadata": {
            "tags": []
          },
          "execution_count": 32
        }
      ]
    },
    {
      "cell_type": "code",
      "metadata": {
        "id": "sNFCWKvrbKlf",
        "colab_type": "code",
        "colab": {
          "base_uri": "https://localhost:8080/",
          "height": 237
        },
        "outputId": "eb7bff21-e3da-4251-ba19-e27267bfc6d1"
      },
      "source": [
        "recommend(user_id='5d7d405e5720533e15c3b1f3', num=10)"
      ],
      "execution_count": null,
      "outputs": [
        {
          "output_type": "stream",
          "text": [
            "Recommending 10 products for the user 5d7d405e5720533e15c3b1f3...\n",
            "-------\n",
            "Recommended: Painting (score:1.0)\n",
            "Recommended: Shree Ganesh Drawing (score:1.0)\n",
            "Recommended: God Drawing (score:1.0)\n",
            "Recommended: God (score:1.0)\n",
            "Recommended: Shiva Portrait (score:1.0)\n",
            "Recommended: Inside life (score:1.0)\n",
            "Recommended: No one's worth hate🧡 (score:1.0)\n",
            "Recommended: Love binds (score:1.0)\n",
            "Recommended: Daaku (score:1.0)\n",
            "Recommended: ROMAN REIGNS (score:1.0)\n"
          ],
          "name": "stdout"
        }
      ]
    },
    {
      "cell_type": "markdown",
      "metadata": {
        "id": "LE33dK4zXlfP",
        "colab_type": "text"
      },
      "source": [
        "### Result: Recommend similar posts for the given post"
      ]
    },
    {
      "cell_type": "code",
      "metadata": {
        "id": "mbg99A7K7xLG",
        "colab_type": "code",
        "colab": {}
      },
      "source": [
        "from sklearn.feature_extraction.text import TfidfVectorizer\n",
        "from sklearn.metrics.pairwise import linear_kernel\n",
        "\n",
        "tf = TfidfVectorizer(analyzer='word', ngram_range=(1, 3), min_df=0, stop_words='english')\n",
        "tfidf_matrix = tf.fit_transform(posts_copy['category'])\n",
        "\n",
        "cosine_similarities = linear_kernel(tfidf_matrix, tfidf_matrix)\n",
        "results = {}\n",
        "\n",
        "for idx, row in posts_copy.iterrows():\n",
        "    similar_indices = cosine_similarities[idx].argsort()[:-100:-1]\n",
        "    similar_items = [(cosine_similarities[idx][i], posts_copy['title'][i]) for i in similar_indices]\n",
        "    results[row['title']] = similar_items[1:]"
      ],
      "execution_count": null,
      "outputs": []
    },
    {
      "cell_type": "code",
      "metadata": {
        "id": "O0PYXZadX52E",
        "colab_type": "code",
        "colab": {}
      },
      "source": [
        "def item(title):\n",
        "    return posts_copy.loc[posts_copy['title'] == title]['title'].tolist()[0].split(' - ')[0]\n",
        "\n",
        "def recommend(post_title, num):\n",
        "    print(\"Recommending \" + str(num) + \" products similar to \" + item(post_title) + \"...\")\n",
        "    print(\"-------\")\n",
        "    recs = results[post_title][:num]\n",
        "    for rec in recs:\n",
        "        print(\"Recommended: \" + item(rec[1]) + \" (score:\" + str(rec[0]) + \")\")"
      ],
      "execution_count": null,
      "outputs": []
    },
    {
      "cell_type": "code",
      "metadata": {
        "colab_type": "code",
        "id": "Co2XWSF2YhM1",
        "colab": {
          "base_uri": "https://localhost:8080/",
          "height": 55
        },
        "outputId": "5d3903ae-63d5-4c94-ed21-683f31734f94"
      },
      "source": [
        "# Give the title of any of the posts from the given snippet to check the results and number of recommendations between 1-99\n",
        "\"\"\"\"\"\"\"\"\"\"\"\"\"\"\"\"\"\"\"\"\"\"\"\"\"\"\"\"\"\"\"\"\"\"\"\"\"\"\"\"\"\"\"\"\"\"\"\"\"\"\"\"\"\"\"\"\"\"\"\"\"\"\"\"\"\"\"\"\"\"\"\"\"\"\"\"\"\"\"\"\"\"\"\"\"\"\"\"\"\"\"\"\"\"\"\"\"\"\"\"\"\"\"\"\"\"\"\"\"\"\"\"\"\"\"\"\"\"\"\"\"\"\"\"\"\n",
        "              _id \t              title    \t                        category \t                                  post_type\n",
        "0 \t5d62abaa65218653a132c956 \thello there \t                  Plant Biotechnology \t                              blog\n",
        "1 \t5d6d39567fa40e1417a4931c \tMl and AI \t                    Artificial Intelligence|Machine Learning|Infor... \tblog\n",
        "2 \t5d7d23315720533e15c3b1ee \tWhat is an Operating System ? \tOperating Systems \t                                blog\n",
        "3 \t5d7d405e5720533e15c3b1f3 \tLord Shiva \t                    Drawings \t                                          artwork\n",
        "4 \t5d80dfbc6c53455f896e600e \tHow Competition law evolved? \t  Competition Laws \t                                  blog\n",
        "\n",
        "\"\"\"\"\"\"\"\"\"\"\"\"\"\"\"\"\"\"\"\"\"\"\"\"\"\"\"\"\"\"\"\"\"\"\"\"\"\"\"\"\"\"\"\"\"\"\"\"\"\"\"\"\"\"\"\"\"\"\"\"\"\"\"\"\"\"\"\"\"\"\"\"\"\"\"\"\"\"\"\"\"\"\"\"\"\"\"\"\"\"\"\"\"\"\"\"\"\"\"\"\"\"\"\"\"\"\"\"\"\"\"\"\"\"\"\"\"\"\"\"\"\"\""
      ],
      "execution_count": null,
      "outputs": [
        {
          "output_type": "execute_result",
          "data": {
            "text/plain": [
              "'\"\"\\n              _id \\t              title    \\t                        category \\t                                  post_type\\n0 \\t5d62abaa65218653a132c956 \\thello there \\t                  Plant Biotechnology \\t                              blog\\n1 \\t5d6d39567fa40e1417a4931c \\tMl and AI \\t                    Artificial Intelligence|Machine Learning|Infor... \\tblog\\n2 \\t5d7d23315720533e15c3b1ee \\tWhat is an Operating System ? \\tOperating Systems \\t                                blog\\n3 \\t5d7d405e5720533e15c3b1f3 \\tLord Shiva \\t                    Drawings \\t                                          artwork\\n4 \\t5d80dfbc6c53455f896e600e \\tHow Competition law evolved? \\t  Competition Laws \\t                                  blog\\n\\n'"
            ]
          },
          "metadata": {
            "tags": []
          },
          "execution_count": 36
        }
      ]
    },
    {
      "cell_type": "code",
      "metadata": {
        "id": "hBHw4IN4Y75G",
        "colab_type": "code",
        "colab": {
          "base_uri": "https://localhost:8080/",
          "height": 237
        },
        "outputId": "f1cd16ee-0474-4c48-a920-23b98b5aeffe"
      },
      "source": [
        "recommend(post_title='How Competition law evolved?', num=10)"
      ],
      "execution_count": null,
      "outputs": [
        {
          "output_type": "stream",
          "text": [
            "Recommending 10 products similar to How Competition law evolved?...\n",
            "-------\n",
            "Recommended: How Competition law evolved? (score:0.9999999999999998)\n",
            "Recommended: Raghavan Committee (score:0.9999999999999998)\n",
            "Recommended: Let's discuss some Case laws! (score:0.9999999999999998)\n",
            "Recommended: Forms of Cartel. (score:0.9999999999999998)\n",
            "Recommended: Custom laws (score:0.1881125750680073)\n",
            "Recommended: What are Set Off and Carry Forward Losses (score:0.1356266594211393)\n",
            "Recommended: Configure CI/CD Pipeline in GitLab and deployment to server via SSH (score:0.0)\n",
            "Recommended: 3D composition. (score:0.0)\n",
            "Recommended: Shiva Portrait (score:0.0)\n",
            "Recommended: How Does A Person's Personal Development Affect His Business Leadership Ability? (score:0.0)\n"
          ],
          "name": "stdout"
        }
      ]
    }
  ]
}